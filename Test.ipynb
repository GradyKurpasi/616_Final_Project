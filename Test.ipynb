{
 "metadata": {
  "language_info": {
   "codemirror_mode": {
    "name": "ipython",
    "version": 3
   },
   "file_extension": ".py",
   "mimetype": "text/x-python",
   "name": "python",
   "nbconvert_exporter": "python",
   "pygments_lexer": "ipython3",
   "version": "3.8.5"
  },
  "orig_nbformat": 2,
  "kernelspec": {
   "name": "python385jvsc74a57bd048357b9fbc49a04e3ca3e86ac919006533cd361674c1c257698448ceb174da2d",
   "display_name": "Python 3.8.5 64-bit ('AzurePytorch': conda)"
  }
 },
 "nbformat": 4,
 "nbformat_minor": 2,
 "cells": [
  {
   "cell_type": "code",
   "execution_count": 2,
   "metadata": {},
   "outputs": [
    {
     "output_type": "stream",
     "name": "stdout",
     "text": [
      "Workspace: AzureML-Pytorch\n",
      "Compute Target: AzPytrch-NC6\n",
      "Datastore: workspaceblobstore\n",
      "Experiment: 616_Final\n",
      "LAST RUN ID:  616_Final_1621370965_7bf7ff92\n",
      "Model 'ANFIS-PyTorch' version 11 registered \n",
      "done\n"
     ]
    }
   ],
   "source": [
    "import azurescript as azs\n",
    "\n",
    "azs.ConnectToAzure()\n",
    "# # azs.UploadData()\n",
    "# azs.CreateAzureDataset()\n",
    "# azs.PrepareAzureScript()\n",
    "# azs.RunAzureScript()\n",
    "azs.SaveModel()\n",
    "print('done')"
   ]
  },
  {
   "cell_type": "code",
   "execution_count": 5,
   "metadata": {
    "tags": []
   },
   "outputs": [
    {
     "output_type": "stream",
     "name": "stderr",
     "text": [
      "C:\\Users\\gkurp\\.conda\\envs\\AzurePytorch\\lib\\site-packages\\torch\\nn\\modules\\loss.py:96: UserWarning: Using a target size (torch.Size([100])) that is different to the input size (torch.Size([100, 1])). This will likely lead to incorrect results due to broadcasting. Please ensure they have the same size.\n",
      "  return F.l1_loss(input, target, reduction=self.reduction)\n",
      "C:\\Users\\gkurp\\.conda\\envs\\AzurePytorch\\lib\\site-packages\\torch\\nn\\modules\\loss.py:96: UserWarning: Using a target size (torch.Size([66])) that is different to the input size (torch.Size([66, 1])). This will likely lead to incorrect results due to broadcasting. Please ensure they have the same size.\n",
      "  return F.l1_loss(input, target, reduction=self.reduction)\n",
      "C:\\Users\\gkurp\\.conda\\envs\\AzurePytorch\\lib\\site-packages\\torch\\nn\\modules\\loss.py:96: UserWarning: Using a target size (torch.Size([34])) that is different to the input size (torch.Size([34, 1])). This will likely lead to incorrect results due to broadcasting. Please ensure they have the same size.\n",
      "  return F.l1_loss(input, target, reduction=self.reduction)\n",
      "Loss:  0 tensor(27.6572)\n",
      "Successes:  tensor(0)\n",
      "Accuraccy: , tensor(0.)\n",
      "Num Pay:  tensor(2760., dtype=torch.float64)\n",
      "Loss:  1 tensor(27.6480)\n",
      "Successes:  tensor(0)\n",
      "Accuraccy: , tensor(0.)\n",
      "Num Pay:  tensor(2760., dtype=torch.float64)\n",
      "Loss:  2 tensor(27.6450)\n",
      "Successes:  tensor(0)\n",
      "Accuraccy: , tensor(0.)\n",
      "Num Pay:  tensor(2760., dtype=torch.float64)\n",
      "Loss:  3 tensor(27.6629)\n",
      "Successes:  tensor(0)\n",
      "Accuraccy: , tensor(0.)\n",
      "Num Pay:  tensor(2760., dtype=torch.float64)\n",
      "Loss:  4 tensor(27.7396)\n",
      "Successes:  tensor(0)\n",
      "Accuraccy: , tensor(0.)\n",
      "Num Pay:  tensor(2760., dtype=torch.float64)\n",
      "Loss:  5 tensor(27.6419)\n",
      "Successes:  tensor(0)\n",
      "Accuraccy: , tensor(0.)\n",
      "Num Pay:  tensor(2760., dtype=torch.float64)\n",
      "Loss:  6 tensor(27.7191)\n",
      "Successes:  tensor(0)\n",
      "Accuraccy: , tensor(0.)\n",
      "Num Pay:  tensor(2760., dtype=torch.float64)\n",
      "Loss:  7 tensor(27.6217)\n",
      "Successes:  tensor(0)\n",
      "Accuraccy: , tensor(0.)\n",
      "Num Pay:  tensor(2760., dtype=torch.float64)\n",
      "Loss:  8 tensor(27.6797)\n",
      "Successes:  tensor(0)\n",
      "Accuraccy: , tensor(0.)\n",
      "Num Pay:  tensor(2760., dtype=torch.float64)\n",
      "Loss:  9 tensor(27.6601)\n",
      "Successes:  tensor(0)\n",
      "Accuraccy: , tensor(0.)\n",
      "Num Pay:  tensor(2760., dtype=torch.float64)\n"
     ]
    }
   ],
   "source": [
    "## LOCAL TEST MODEL\n",
    "import torch\n",
    "import scripts.model as mod\n",
    "import scripts.preprocess as pp\n",
    "import torch.nn as nn\n",
    "from torch import optim\n",
    "from torch.nn.modules.activation import Sigmoid\n",
    "\n",
    "\n",
    "\n"
   ]
  },
  {
   "cell_type": "code",
   "execution_count": 1,
   "metadata": {},
   "outputs": [
    {
     "output_type": "stream",
     "name": "stdout",
     "text": [
      "Data Loaded\n",
      "Solution String Created\n",
      "Data Loader Created\n",
      "YAY!\n"
     ]
    }
   ],
   "source": [
    "##LOCAL TEST PREPRPOCESS\n",
    "\n",
    "import scripts.preprocess as pp\n",
    "import torch\n",
    "device = 'cuda' if torch.cuda.is_available() else 'cpu'\n",
    "datapath = \"./data/\"\n",
    "master, payments = pp.LoadData(datapath, filename='alldone.csv')\n",
    "print('Data Loaded')\n",
    "solution, master = pp.PrepMLPData(master, payments)\n",
    "print('Solution String Created')\n",
    "train_dl, test_dl = pp.CreateMLPDataLoader(master, solution)\n",
    "print('Data Loader Created')\n",
    "\n",
    "filename = os.path.join(datapath, 'train_dl.pt')\n",
    "torch.save(train_dl, 'train_dl.pt')\n",
    "filename = os.path.join(datapath, 'test_dl.pt')\n",
    "torch.save(test_dl, 'test_dl.pt')\n",
    "print('YAY!')"
   ]
  },
  {
   "cell_type": "code",
   "execution_count": 5,
   "metadata": {},
   "outputs": [
    {
     "output_type": "stream",
     "name": "stdout",
     "text": [
      "tensor([[8.0000e+00, 2.1101e+05, 3.0857e+05,  ..., 0.0000e+00, 0.0000e+00,\n         0.0000e+00],\n        [8.0000e+00, 2.2596e+05, 3.2309e+05,  ..., 0.0000e+00, 1.0000e+00,\n         1.0000e+00],\n        [8.0000e+00, 1.8101e+05, 2.7874e+05,  ..., 0.0000e+00, 0.0000e+00,\n         0.0000e+00],\n        ...,\n        [8.0000e+00, 1.8083e+05, 2.7855e+05,  ..., 0.0000e+00, 0.0000e+00,\n         0.0000e+00],\n        [8.0000e+00, 1.9975e+05, 2.9737e+05,  ..., 0.0000e+00, 0.0000e+00,\n         0.0000e+00],\n        [8.0000e+00, 2.4305e+05, 3.4004e+05,  ..., 0.0000e+00, 0.0000e+00,\n         0.0000e+00]], dtype=torch.float64)\ntensor([[8.0000e+00, 1.9525e+05, 2.9291e+05,  ..., 0.0000e+00, 0.0000e+00,\n         0.0000e+00],\n        [8.0000e+00, 1.9755e+05, 2.9520e+05,  ..., 1.0000e+00, 0.0000e+00,\n         0.0000e+00],\n        [8.0000e+00, 2.2625e+05, 3.2337e+05,  ..., 0.0000e+00, 0.0000e+00,\n         0.0000e+00],\n        ...,\n        [8.0000e+00, 2.1404e+05, 3.1160e+05,  ..., 0.0000e+00, 0.0000e+00,\n         0.0000e+00],\n        [8.0000e+00, 2.1731e+05, 3.1479e+05,  ..., 0.0000e+00, 0.0000e+00,\n         0.0000e+00],\n        [8.0000e+00, 1.7921e+05, 2.7693e+05,  ..., 0.0000e+00, 0.0000e+00,\n         0.0000e+00]], dtype=torch.float64)\n"
     ]
    }
   ],
   "source": [
    "n = 0\n",
    "for x, y in train_dl:\n",
    "    print(x)\n",
    "    n += 1\n",
    "    if n > 1: break"
   ]
  },
  {
   "cell_type": "code",
   "execution_count": 15,
   "metadata": {},
   "outputs": [
    {
     "output_type": "execute_result",
     "data": {
      "text/plain": [
       "Empty DataFrame\n",
       "Columns: [clientname, accountid, customerid, ssnlastfour, Address1, Address2, City, State, PostalCode, dateplaced, placedbalance, dollarscollected, placeddpd, hasbrokenpromise, hasconfirmed, haskeptptp, haspayments, hasplacementphone, haspossiblenumber, haspromever, Month1, Month2]\n",
       "Index: []\n",
       "\n",
       "[0 rows x 22 columns]"
      ],
      "text/html": "<div>\n<style scoped>\n    .dataframe tbody tr th:only-of-type {\n        vertical-align: middle;\n    }\n\n    .dataframe tbody tr th {\n        vertical-align: top;\n    }\n\n    .dataframe thead th {\n        text-align: right;\n    }\n</style>\n<table border=\"1\" class=\"dataframe\">\n  <thead>\n    <tr style=\"text-align: right;\">\n      <th></th>\n      <th>clientname</th>\n      <th>accountid</th>\n      <th>customerid</th>\n      <th>ssnlastfour</th>\n      <th>Address1</th>\n      <th>Address2</th>\n      <th>City</th>\n      <th>State</th>\n      <th>PostalCode</th>\n      <th>dateplaced</th>\n      <th>...</th>\n      <th>placeddpd</th>\n      <th>hasbrokenpromise</th>\n      <th>hasconfirmed</th>\n      <th>haskeptptp</th>\n      <th>haspayments</th>\n      <th>hasplacementphone</th>\n      <th>haspossiblenumber</th>\n      <th>haspromever</th>\n      <th>Month1</th>\n      <th>Month2</th>\n    </tr>\n  </thead>\n  <tbody>\n  </tbody>\n</table>\n<p>0 rows × 22 columns</p>\n</div>"
     },
     "metadata": {},
     "execution_count": 15
    }
   ],
   "source": [
    "master[master['accountid']==24837]"
   ]
  },
  {
   "cell_type": "code",
   "execution_count": null,
   "metadata": {},
   "outputs": [],
   "source": []
  }
 ]
}